{
 "cells": [
  {
   "cell_type": "markdown",
   "id": "d9f4d6f0",
   "metadata": {},
   "source": [
    "巢狀判斷\n",
    "貓\n",
    "熊\n",
    "蜥蜴\n",
    "人類"
   ]
  },
  {
   "cell_type": "code",
   "execution_count": 4,
   "id": "bcacb195",
   "metadata": {},
   "outputs": [
    {
     "name": "stdout",
     "output_type": "stream",
     "text": [
      "熊\n"
     ]
    }
   ],
   "source": [
    "furry:bool = True\n",
    "small:bool = False\n",
    "\n",
    "if furry:\n",
    "    if small:\n",
    "        print(\"貓\")\n",
    "    else:\n",
    "        print(\"熊\")\n",
    "else:\n",
    "    if small:\n",
    "        print(\"小蜥蜴\")\n",
    "    else:\n",
    "        print(\"人類\")"
   ]
  },
  {
   "cell_type": "code",
   "execution_count": 10,
   "id": "4d35a42c",
   "metadata": {},
   "outputs": [
    {
     "name": "stdout",
     "output_type": "stream",
     "text": [
      "學生等級:不及格\n"
     ]
    }
   ],
   "source": [
    "score = int(input('請輸入學生分數:'))\n",
    "if score >= 80:\n",
    "    grade = \"優\"\n",
    "elif score >= 60:\n",
    "    grade = \"及格\"\n",
    "else:\n",
    "    grade = \"不及格\"\n",
    "print(f'學生等級:{grade}')\n",
    "    "
   ]
  },
  {
   "cell_type": "code",
   "execution_count": 16,
   "id": "b3794a1a",
   "metadata": {},
   "outputs": [
    {
     "name": "stdout",
     "output_type": "stream",
     "text": [
      "學生等級:丁\n"
     ]
    }
   ],
   "source": [
    "score = int(input('請輸入學生分數:'))\n",
    "if score >= 90:\n",
    "    grade = \"優\"\n",
    "elif score >= 80:\n",
    "    grade = \"甲\"\n",
    "elif score >= 70:\n",
    "    grade = \"乙\"\n",
    "elif score >= 60:\n",
    "    grade = \"丙\"\n",
    "else:\n",
    "    grade = \"丁\"\n",
    "print(f'學生等級:{grade}')"
   ]
  }
 ],
 "metadata": {
  "kernelspec": {
   "display_name": "base",
   "language": "python",
   "name": "python3"
  },
  "language_info": {
   "codemirror_mode": {
    "name": "ipython",
    "version": 3
   },
   "file_extension": ".py",
   "mimetype": "text/x-python",
   "name": "python",
   "nbconvert_exporter": "python",
   "pygments_lexer": "ipython3",
   "version": "3.12.7"
  }
 },
 "nbformat": 4,
 "nbformat_minor": 5
}
