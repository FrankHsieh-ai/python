{
 "cells": [
  {
   "cell_type": "markdown",
   "id": "d9f4d6f0",
   "metadata": {},
   "source": [
    "巢狀判斷\n",
    "貓\n",
    "熊\n",
    "蜥蜴\n",
    "人類"
   ]
  },
  {
   "cell_type": "code",
   "execution_count": 4,
   "id": "bcacb195",
   "metadata": {},
   "outputs": [
    {
     "name": "stdout",
     "output_type": "stream",
     "text": [
      "熊\n"
     ]
    }
   ],
   "source": [
    "furry:bool = True\n",
    "small:bool = False\n",
    "\n",
    "if furry:\n",
    "    if small:\n",
    "        print(\"貓\")\n",
    "    else:\n",
    "        print(\"熊\")\n",
    "else:\n",
    "    if small:\n",
    "        print(\"小蜥蜴\")\n",
    "    else:\n",
    "        print(\"人類\")"
   ]
  },
  {
   "cell_type": "code",
   "execution_count": 10,
   "id": "4d35a42c",
   "metadata": {},
   "outputs": [
    {
     "name": "stdout",
     "output_type": "stream",
     "text": [
      "學生等級:不及格\n"
     ]
    }
   ],
   "source": [
    "score = int(input('請輸入學生分數:'))\n",
    "if score >= 80:\n",
    "    grade = \"優\"\n",
    "elif score >= 60:\n",
    "    grade = \"及格\"\n",
    "else:\n",
    "    grade = \"不及格\"\n",
    "print(f'學生等級:{grade}')\n",
    "    "
   ]
  },
  {
   "cell_type": "code",
   "execution_count": 16,
   "id": "b3794a1a",
   "metadata": {},
   "outputs": [
    {
     "name": "stdout",
     "output_type": "stream",
     "text": [
      "學生等級:丁\n"
     ]
    }
   ],
   "source": [
    "score = int(input('請輸入學生分數:'))\n",
    "if score >= 90:\n",
    "    grade = \"優\"\n",
    "elif score >= 80:\n",
    "    grade = \"甲\"\n",
    "elif score >= 70:\n",
    "    grade = \"乙\"\n",
    "elif score >= 60:\n",
    "    grade = \"丙\"\n",
    "else:\n",
    "    grade = \"丁\"\n",
    "print(f'學生等級:{grade}')"
   ]
  },
  {
   "cell_type": "code",
   "execution_count": 28,
   "id": "ea33716e",
   "metadata": {},
   "outputs": [
    {
     "name": "stdout",
     "output_type": "stream",
     "text": [
      "實付金額:9500\n"
     ]
    }
   ],
   "source": [
    "money = int(input('請輸入購買金額:'))\n",
    "if money < 10000:\n",
    "    pay_money = money\n",
    "elif money < 30000:\n",
    "    pay_money = money*0.95\n",
    "elif money < 50000:\n",
    "    pay_money = money*0.9\n",
    "elif money < 100000:\n",
    "    pay_money = money*0.85\n",
    "else:\n",
    "    pay_money = money*0.8\n",
    "print(f'實付金額:{int(pay_money)}')"
   ]
  },
  {
   "cell_type": "code",
   "execution_count": null,
   "id": "6f42cd4d",
   "metadata": {},
   "outputs": [],
   "source": [
    "# 國文100同時數學100,獎金1000\n",
    "# 只有一科100分,獎金500\n",
    "chinese = int(input(\"請輸入國文分數\"))\n",
    "math = int(input(\"請輸入數學分數\"))\n",
    "#巢狀判斷\n",
    "bonus = 0\n",
    "if chinese == 100:\n",
    "    if math == 100:\n",
    "        bonus = 1000\n",
    "    else:\n",
    "        bonus = 500\n",
    "elif math == 100:\n",
    "    bonus = 500\n",
    "\n",
    "print(f\"獎金:{bonus}\")"
   ]
  },
  {
   "cell_type": "code",
   "execution_count": 32,
   "id": "6cf26825",
   "metadata": {},
   "outputs": [
    {
     "name": "stdout",
     "output_type": "stream",
     "text": [
      "獎金:0\n"
     ]
    }
   ],
   "source": [
    "# 國文100同時數學100,獎金1000\n",
    "# 只有一科100分,獎金500\n",
    "chinese = int(input(\"請輸入國文分數\"))\n",
    "math = int(input(\"請輸入數學分數\"))\n",
    "#邏輯運算子\n",
    "bonus = 0\n",
    "if chinese == 100 and math == 100:\n",
    "    bonus = 1000\n",
    "elif chinese == 100 or math == 100:\n",
    "    bonus = 500\n",
    "\n",
    "print(f\"獎金:{bonus}\")"
   ]
  },
  {
   "cell_type": "markdown",
   "id": "85b154fd",
   "metadata": {},
   "source": [
    "not 使用的方法\n",
    "  True區塊和False區塊,對調"
   ]
  },
  {
   "cell_type": "code",
   "execution_count": 34,
   "id": "64ba4dd9",
   "metadata": {},
   "outputs": [
    {
     "name": "stdout",
     "output_type": "stream",
     "text": [
      "可以考駕照\n"
     ]
    }
   ],
   "source": [
    "age = int(input(\"請輸入age:\"))\n",
    "if age < 18:\n",
    "    print(\"不可以考駕照\")\n",
    "else:\n",
    "    print(\"可以考駕照\")"
   ]
  },
  {
   "cell_type": "code",
   "execution_count": 33,
   "id": "99e96ee3",
   "metadata": {},
   "outputs": [
    {
     "name": "stdout",
     "output_type": "stream",
     "text": [
      "可以考駕照\n"
     ]
    }
   ],
   "source": [
    "age = int(input(\"請輸入age:\"))\n",
    "if not age < 18:\n",
    "    print(\"可以考駕照\")\n",
    "else:\n",
    "    print(\"不可以考駕照\")"
   ]
  },
  {
   "cell_type": "code",
   "execution_count": 3,
   "id": "d1e9d71f",
   "metadata": {},
   "outputs": [
    {
     "name": "stdout",
     "output_type": "stream",
     "text": [
      "你的BMI為:18.115412710007302\n"
     ]
    }
   ],
   "source": [
    "height = int(input('身高(cm):'))\n",
    "weight = int(input('體重(kg):'))\n",
    "BMI = weight/(height/100)**2\n",
    "print(f'你的BMI為:{BMI}')"
   ]
  }
 ],
 "metadata": {
  "kernelspec": {
   "display_name": "base",
   "language": "python",
   "name": "python3"
  },
  "language_info": {
   "codemirror_mode": {
    "name": "ipython",
    "version": 3
   },
   "file_extension": ".py",
   "mimetype": "text/x-python",
   "name": "python",
   "nbconvert_exporter": "python",
   "pygments_lexer": "ipython3",
   "version": "3.12.7"
  }
 },
 "nbformat": 4,
 "nbformat_minor": 5
}
