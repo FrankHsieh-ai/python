{
 "cells": [
  {
   "cell_type": "markdown",
   "id": "d9f4d6f0",
   "metadata": {},
   "source": [
    "巢狀判斷\n",
    "貓\n",
    "熊\n",
    "蜥蜴\n",
    "人類"
   ]
  },
  {
   "cell_type": "code",
   "execution_count": 2,
   "id": "bcacb195",
   "metadata": {},
   "outputs": [
    {
     "name": "stdout",
     "output_type": "stream",
     "text": [
      "人類\n"
     ]
    }
   ],
   "source": [
    "furry:bool = False\n",
    "small:bool = False\n",
    "\n",
    "if furry:\n",
    "    if small:\n",
    "        print(\"貓\")\n",
    "    else:\n",
    "        print(\"熊\")\n",
    "else:\n",
    "    if small:\n",
    "        print(\"小蜥蜴\")\n",
    "    else:\n",
    "        print(\"人類\")"
   ]
  }
 ],
 "metadata": {
  "kernelspec": {
   "display_name": "base",
   "language": "python",
   "name": "python3"
  },
  "language_info": {
   "codemirror_mode": {
    "name": "ipython",
    "version": 3
   },
   "file_extension": ".py",
   "mimetype": "text/x-python",
   "name": "python",
   "nbconvert_exporter": "python",
   "pygments_lexer": "ipython3",
   "version": "3.12.7"
  }
 },
 "nbformat": 4,
 "nbformat_minor": 5
}
