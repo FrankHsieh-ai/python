{
 "cells": [
  {
   "cell_type": "markdown",
   "id": "227d4295",
   "metadata": {},
   "source": [
    "# python如何讀取students.csv\n",
    "\n",
    "你可以使用 Python 內建的 csv 模組來讀取 students.csv，以下是簡單的範例：\n",
    "\n",
    "import csv\n",
    "\n",
    "with open('students.csv', newline='', encoding='utf-8') as csvfile:\n",
    "    reader = csv.DictReader(csvfile)  # 使用 DictReader 讀取成字典格式\n",
    "    for row in reader:\n",
    "        print(row)  # 每一列會是字典，鍵是欄位名稱\n",
    "說明：\n",
    "\n",
    "open() 中指定 encoding='utf-8' 避免中文亂碼。\n",
    "csv.DictReader 會自動把 CSV 第一列當作欄位名稱，並將每列轉成字典。\n",
    "你也可以用 csv.reader 讀成串列形式，但 DictReader 更適合有欄位標題的 CSV。\n",
    "執行後，每一列會輸出類似：\n",
    "\n",
    "{'姓名': '錢欣潔', '國文': '100', '英文': '77', '數學': '59'}\n",
    "{'姓名': '許芳如', '國文': '98', '英文': '74', '數學': '99'}\n",
    "{'姓名': '陳怡伶', '國文': '54', '英文': '67', '數學': '79'}\n",
    "這是讀取 CSV 檔案並取得每筆資料的標準作法[1][2][4][5]。\n"
   ]
  },
  {
   "cell_type": "code",
   "execution_count": 1,
   "id": "158797cd",
   "metadata": {},
   "outputs": [
    {
     "data": {
      "text/plain": [
       "[{'姓名': '楊偉翔', '國文': '94', '英文': '76', '數學': '84'},\n",
       " {'姓名': '趙家豪', '國文': '96', '英文': '55', '數學': '56'},\n",
       " {'姓名': '胡芳瑜', '國文': '91', '英文': '76', '數學': '87'},\n",
       " {'姓名': '鄭琇亞', '國文': '94', '英文': '74', '數學': '96'},\n",
       " {'姓名': '陳筱涵', '國文': '96', '英文': '93', '數學': '68'},\n",
       " {'姓名': '周家銘', '國文': '88', '英文': '58', '數學': '60'},\n",
       " {'姓名': '李美洋', '國文': '77', '英文': '95', '數學': '100'},\n",
       " {'姓名': '陳姵彬', '國文': '91', '英文': '52', '數學': '92'},\n",
       " {'姓名': '郭淑枝', '國文': '73', '英文': '50', '數學': '77'},\n",
       " {'姓名': '陳逸凡', '國文': '68', '英文': '60', '數學': '94'}]"
      ]
     },
     "execution_count": 1,
     "metadata": {},
     "output_type": "execute_result"
    }
   ],
   "source": [
    "import csv\n",
    "from csv import DictReader\n",
    "\n",
    "with open('students.csv',encoding='utf-8',newline='') as csv_file:\n",
    "    reader:DictReader = csv.DictReader(csv_file)\n",
    "    students = list(reader)\n",
    "    \n",
    "students"
   ]
  }
 ],
 "metadata": {
  "kernelspec": {
   "display_name": "base",
   "language": "python",
   "name": "python3"
  },
  "language_info": {
   "codemirror_mode": {
    "name": "ipython",
    "version": 3
   },
   "file_extension": ".py",
   "mimetype": "text/x-python",
   "name": "python",
   "nbconvert_exporter": "python",
   "pygments_lexer": "ipython3",
   "version": "3.12.7"
  }
 },
 "nbformat": 4,
 "nbformat_minor": 5
}
