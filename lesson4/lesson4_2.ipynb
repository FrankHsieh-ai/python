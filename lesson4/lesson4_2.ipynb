{
 "cells": [
  {
   "cell_type": "markdown",
   "id": "d20c675f",
   "metadata": {},
   "source": [
    "單項選擇"
   ]
  },
  {
   "cell_type": "code",
   "execution_count": null,
   "id": "22d935fa",
   "metadata": {},
   "outputs": [
    {
     "name": "stdout",
     "output_type": "stream",
     "text": [
      "這是單項選擇\n",
      "這是True的程式區塊\n"
     ]
    }
   ],
   "source": [
    "if True:\n",
    "    print(\"這是單項選擇\")\n",
    "    print(\"這是True的程式區塊\")\n",
    "    "
   ]
  },
  {
   "cell_type": "markdown",
   "id": "93d66b22",
   "metadata": {},
   "source": [
    "雙項選擇"
   ]
  },
  {
   "cell_type": "code",
   "execution_count": null,
   "id": "980cedc5",
   "metadata": {},
   "outputs": [
    {
     "name": "stdout",
     "output_type": "stream",
     "text": [
      "這是雙項選擇\n",
      "這是False的程式區塊\n"
     ]
    }
   ],
   "source": [
    "if False:\n",
    "    print(\"這是雙項選擇\")\n",
    "    print(\"這是True的程式區塊\")\n",
    "else:\n",
    "    print(\"這是雙項選擇\")\n",
    "    print(\"這是False的程式區塊\")"
   ]
  },
  {
   "cell_type": "code",
   "execution_count": null,
   "id": "d2c1d542",
   "metadata": {},
   "outputs": [
    {
     "data": {
      "text/plain": [
       "False"
      ]
     },
     "execution_count": 15,
     "metadata": {},
     "output_type": "execute_result"
    }
   ],
   "source": [
    "5 > 3\n",
    "20 == 20\n",
    "20 != 20"
   ]
  },
  {
   "cell_type": "code",
   "execution_count": null,
   "id": "94489b91",
   "metadata": {},
   "outputs": [
    {
     "name": "stdout",
     "output_type": "stream",
     "text": [
      "成年\n"
     ]
    }
   ],
   "source": [
    "age = int(input(\"請輸入age:\"))\n",
    "if age < 18:\n",
    "    print(\"未成年\")\n",
    "else:\n",
    "    print(\"成年\")"
   ]
  },
  {
   "cell_type": "code",
   "execution_count": 25,
   "id": "7f95a765",
   "metadata": {},
   "outputs": [
    {
     "name": "stdout",
     "output_type": "stream",
     "text": [
      "學生分數是:300\n"
     ]
    }
   ],
   "source": [
    "scores = int(input(\"請輸入學生分數(最高300分):\"))\n",
    "is_add = input(\"學生是否符合加分條件?(y,n)\")\n",
    "if (is_add == \"y\"):\n",
    "    scores *= 1.05\n",
    "    if scores > 300:\n",
    "        scores = 300\n",
    "print(f\"學生分數是:{round(scores)}\")"
   ]
  },
  {
   "cell_type": "code",
   "execution_count": 29,
   "id": "544c7f47",
   "metadata": {},
   "outputs": [
    {
     "name": "stdout",
     "output_type": "stream",
     "text": [
      "發生錯誤\n"
     ]
    }
   ],
   "source": [
    "try:\n",
    "    25/0\n",
    "except:\n",
    "    print('發生錯誤')"
   ]
  },
  {
   "cell_type": "code",
   "execution_count": 3,
   "id": "a7ac3d6d",
   "metadata": {},
   "outputs": [
    {
     "name": "stdout",
     "output_type": "stream",
     "text": [
      "發生錯誤\n",
      "程式結束\n"
     ]
    }
   ],
   "source": [
    "n=float(input('請輸入數值:'))\n",
    "try:\n",
    "    print(25/n)\n",
    "except:\n",
    "    print('發生錯誤')\n",
    "print('程式結束')"
   ]
  },
  {
   "cell_type": "code",
   "execution_count": null,
   "id": "c1f1ae74",
   "metadata": {},
   "outputs": [],
   "source": [
    "n=float(input('請輸入數值:'))\n",
    "try:\n",
    "    print(30/0\n",
    "    print(25/n)\n",
    "except ZeroDivisionError:\n",
    "    print('除數不可以是0')\n",
    "except:\n",
    "    print('發生不知名的錯誤')\n",
    "print('程式結束')"
   ]
  }
 ],
 "metadata": {
  "kernelspec": {
   "display_name": "base",
   "language": "python",
   "name": "python3"
  },
  "language_info": {
   "codemirror_mode": {
    "name": "ipython",
    "version": 3
   },
   "file_extension": ".py",
   "mimetype": "text/x-python",
   "name": "python",
   "nbconvert_exporter": "python",
   "pygments_lexer": "ipython3",
   "version": "3.12.7"
  }
 },
 "nbformat": 4,
 "nbformat_minor": 5
}
