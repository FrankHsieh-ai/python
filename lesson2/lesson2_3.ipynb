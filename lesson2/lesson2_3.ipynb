{
 "cells": [
  {
   "cell_type": "code",
   "execution_count": 1,
   "id": "f3b594ca",
   "metadata": {},
   "outputs": [
    {
     "name": "stdout",
     "output_type": "stream",
     "text": [
      "矩形的寬是:12\n",
      "高是:34\n",
      "面積是:408\n"
     ]
    }
   ],
   "source": [
    "width=12\n",
    "height=34\n",
    "area=width*height\n",
    "print(f'矩形的寬是:{width}\\n高是:{height}\\n面積是:{area}')"
   ]
  },
  {
   "cell_type": "code",
   "execution_count": 12,
   "id": "cc820f43",
   "metadata": {},
   "outputs": [
    {
     "name": "stdout",
     "output_type": "stream",
     "text": [
      "3.0 4.0 5.0\n",
      "平均:4.00\n",
      "標準差:1.00\n"
     ]
    }
   ],
   "source": [
    "import statistics\n",
    "n1=float(input('請輸入第1個數'))\n",
    "n2=float(input('請輸入第2個數'))\n",
    "n3=float(input('請輸入第3個數'))\n",
    "average=statistics.mean((n1,n2,n3))\n",
    "std=statistics.stdev((n1,n2,n3))\n",
    "print(n1,n2,n3)\n",
    "print(f\"平均:{average:.2f}\")\n",
    "print(f\"標準差:{std:.2f}\")\n"
   ]
  }
 ],
 "metadata": {
  "kernelspec": {
   "display_name": "base",
   "language": "python",
   "name": "python3"
  },
  "language_info": {
   "codemirror_mode": {
    "name": "ipython",
    "version": 3
   },
   "file_extension": ".py",
   "mimetype": "text/x-python",
   "name": "python",
   "nbconvert_exporter": "python",
   "pygments_lexer": "ipython3",
   "version": "3.12.7"
  }
 },
 "nbformat": 4,
 "nbformat_minor": 5
}
