{
 "cells": [
  {
   "cell_type": "code",
   "execution_count": 4,
   "id": "f3b594ca",
   "metadata": {},
   "outputs": [
    {
     "name": "stdout",
     "output_type": "stream",
     "text": [
      "矩形的寬是:12\n",
      "高是:34\n",
      "面積是:408\n"
     ]
    }
   ],
   "source": [
    "width=12\n",
    "height=34\n",
    "area=width*height\n",
    "print(f'矩形的寬是:{width}\\n高是:{height}\\n面積是:{area}')"
   ]
  }
 ],
 "metadata": {
  "kernelspec": {
   "display_name": "base",
   "language": "python",
   "name": "python3"
  },
  "language_info": {
   "codemirror_mode": {
    "name": "ipython",
    "version": 3
   },
   "file_extension": ".py",
   "mimetype": "text/x-python",
   "name": "python",
   "nbconvert_exporter": "python",
   "pygments_lexer": "ipython3",
   "version": "3.12.7"
  }
 },
 "nbformat": 4,
 "nbformat_minor": 5
}
