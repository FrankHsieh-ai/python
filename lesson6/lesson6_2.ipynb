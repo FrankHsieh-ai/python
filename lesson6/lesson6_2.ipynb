{
 "cells": [
  {
   "cell_type": "markdown",
   "id": "4f8cfc45",
   "metadata": {},
   "source": [
    "不知道執行次數的迴圈 while"
   ]
  },
  {
   "cell_type": "code",
   "execution_count": 4,
   "id": "606a1cf6",
   "metadata": {},
   "outputs": [
    {
     "name": "stdout",
     "output_type": "stream",
     "text": [
      "恭喜!已經存夠了,存了3個月,共存了30000元\n"
     ]
    }
   ],
   "source": [
    "#小明想要存錢買一輛機車,機車每輛30000元，他將每月存的錢輸入，當存款足夠買機車時，就顯示提示訊息告知。\n",
    "#你不知道要存幾個月\n",
    "#必需找到被比較的變數\n",
    "deposit = 0\n",
    "month = 0\n",
    "while (deposit < 30000):\n",
    "    month += 1\n",
    "    input_money = int(input(f'請輸入第{month}月份存款'))\n",
    "    deposit +=  input_money\n",
    "print(f'恭喜!已經存夠了,存了{month}個月,共存了{deposit}元')"
   ]
  },
  {
   "cell_type": "code",
   "execution_count": 5,
   "id": "fa49c830",
   "metadata": {},
   "outputs": [
    {
     "name": "stdout",
     "output_type": "stream",
     "text": [
      "恭喜!已經存夠了,存了2月,共存了30000元\n"
     ]
    }
   ],
   "source": [
    "#小明想要存錢買一輛機車,機車每輛30000元，他將每月存的錢輸入，當存款足夠買機車時，就顯示提示訊息告知。\n",
    "#你不知道要存幾個月\n",
    "#必需找到被比較的變數\n",
    "\n",
    "deposit = 0\n",
    "month = 0\n",
    "while(True):\n",
    "    month += 1\n",
    "    input_money = int(input(f\"請輸入第{month}月份的存款:\"))\n",
    "    deposit += input_money\n",
    "    if(deposit>=30000):\n",
    "       break \n",
    "    \n",
    "\n",
    "print(f\"恭喜!已經存夠了,存了{month}月,共存了{deposit}元\")"
   ]
  }
 ],
 "metadata": {
  "kernelspec": {
   "display_name": "base",
   "language": "python",
   "name": "python3"
  },
  "language_info": {
   "codemirror_mode": {
    "name": "ipython",
    "version": 3
   },
   "file_extension": ".py",
   "mimetype": "text/x-python",
   "name": "python",
   "nbconvert_exporter": "python",
   "pygments_lexer": "ipython3",
   "version": "3.12.7"
  }
 },
 "nbformat": 4,
 "nbformat_minor": 5
}
