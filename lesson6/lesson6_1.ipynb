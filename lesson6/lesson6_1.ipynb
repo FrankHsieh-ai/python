{
 "cells": [
  {
   "cell_type": "markdown",
   "id": "470586d0",
   "metadata": {},
   "source": [
    "for _ in _"
   ]
  },
  {
   "cell_type": "code",
   "execution_count": 1,
   "id": "3eb0ae66",
   "metadata": {},
   "outputs": [
    {
     "name": "stdout",
     "output_type": "stream",
     "text": [
      "2\n",
      "4\n",
      "6\n",
      "8\n",
      "10\n"
     ]
    }
   ],
   "source": [
    "#tuple是串列資料\n",
    "for i in (2, 4, 6, 8, 10):\n",
    "    print(i)"
   ]
  },
  {
   "cell_type": "code",
   "execution_count": 2,
   "id": "dbdeff6d",
   "metadata": {},
   "outputs": [
    {
     "name": "stdout",
     "output_type": "stream",
     "text": [
      "1\n",
      "3\n",
      "5\n",
      "7\n",
      "9\n"
     ]
    }
   ],
   "source": [
    "#list串列資料\n",
    "for i in [1, 3, 5, 7, 9]:\n",
    "    print(i)"
   ]
  },
  {
   "cell_type": "code",
   "execution_count": 7,
   "id": "908d2c4b",
   "metadata": {},
   "outputs": [
    {
     "name": "stdout",
     "output_type": "stream",
     "text": [
      "i1\n",
      "j1j2j3j4j5j6j7j8j9\n",
      "i2\n",
      "j1j2j3j4j5j6j7j8j9\n",
      "i3\n",
      "j1j2j3j4j5j6j7j8j9\n",
      "i4\n",
      "j1j2j3j4j5j6j7j8j9\n",
      "i5\n",
      "j1j2j3j4j5j6j7j8j9\n",
      "i6\n",
      "j1j2j3j4j5j6j7j8j9\n",
      "i7\n",
      "j1j2j3j4j5j6j7j8j9\n",
      "i8\n",
      "j1j2j3j4j5j6j7j8j9\n",
      "i9\n",
      "j1j2j3j4j5j6j7j8j9\n"
     ]
    }
   ],
   "source": [
    "for i in range(1,10):\n",
    "    print(f'i{i}')\n",
    "    for j in range(1,10):\n",
    "        print(f'j{j}',end='')\n",
    "    print()"
   ]
  },
  {
   "cell_type": "code",
   "execution_count": 12,
   "id": "b04550ef",
   "metadata": {},
   "outputs": [
    {
     "name": "stdout",
     "output_type": "stream",
     "text": [
      "1 * 1 = 1  1 * 2 = 2  1 * 3 = 3  1 * 4 = 4  1 * 5 = 5  1 * 6 = 6  1 * 7 = 7  1 * 8 = 8  1 * 9 = 9  \n",
      "2 * 1 = 2  2 * 2 = 4  2 * 3 = 6  2 * 4 = 8  2 * 5 =10  2 * 6 =12  2 * 7 =14  2 * 8 =16  2 * 9 =18  \n",
      "3 * 1 = 3  3 * 2 = 6  3 * 3 = 9  3 * 4 =12  3 * 5 =15  3 * 6 =18  3 * 7 =21  3 * 8 =24  3 * 9 =27  \n",
      "4 * 1 = 4  4 * 2 = 8  4 * 3 =12  4 * 4 =16  4 * 5 =20  4 * 6 =24  4 * 7 =28  4 * 8 =32  4 * 9 =36  \n",
      "5 * 1 = 5  5 * 2 =10  5 * 3 =15  5 * 4 =20  5 * 5 =25  5 * 6 =30  5 * 7 =35  5 * 8 =40  5 * 9 =45  \n",
      "6 * 1 = 6  6 * 2 =12  6 * 3 =18  6 * 4 =24  6 * 5 =30  6 * 6 =36  6 * 7 =42  6 * 8 =48  6 * 9 =54  \n",
      "7 * 1 = 7  7 * 2 =14  7 * 3 =21  7 * 4 =28  7 * 5 =35  7 * 6 =42  7 * 7 =49  7 * 8 =56  7 * 9 =63  \n",
      "8 * 1 = 8  8 * 2 =16  8 * 3 =24  8 * 4 =32  8 * 5 =40  8 * 6 =48  8 * 7 =56  8 * 8 =64  8 * 9 =72  \n",
      "9 * 1 = 9  9 * 2 =18  9 * 3 =27  9 * 4 =36  9 * 5 =45  9 * 6 =54  9 * 7 =63  9 * 8 =72  9 * 9 =81  \n"
     ]
    }
   ],
   "source": [
    "for i in range(1,10):\n",
    "    for j in range(1,10):\n",
    "        print(f'{i:<2d}*{j:2d} ={i*j:2d}',end='  ')\n",
    "    print()"
   ]
  },
  {
   "cell_type": "markdown",
   "id": "f04f5b5d",
   "metadata": {},
   "source": [
    "迴圈可以和判斷整合"
   ]
  },
  {
   "cell_type": "code",
   "execution_count": 19,
   "id": "38c52797",
   "metadata": {},
   "outputs": [
    {
     "name": "stdout",
     "output_type": "stream",
     "text": [
      "10的因數有: 1 2 5 10 "
     ]
    }
   ],
   "source": [
    "num = int(input(\"請輸入整數,求所有的因數:\"))\n",
    "print(f\"{num}的因數有:\", end=\" \")\n",
    "for i in range(1,num+1):\n",
    "    if num % i == 0:\n",
    "        print(i,end=\" \")"
   ]
  }
 ],
 "metadata": {
  "kernelspec": {
   "display_name": "base",
   "language": "python",
   "name": "python3"
  },
  "language_info": {
   "codemirror_mode": {
    "name": "ipython",
    "version": 3
   },
   "file_extension": ".py",
   "mimetype": "text/x-python",
   "name": "python",
   "nbconvert_exporter": "python",
   "pygments_lexer": "ipython3",
   "version": "3.12.7"
  }
 },
 "nbformat": 4,
 "nbformat_minor": 5
}
